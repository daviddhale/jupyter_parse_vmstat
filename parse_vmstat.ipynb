{
  "nbformat": 4,
  "nbformat_minor": 0,
  "metadata": {
    "colab": {
      "provenance": [],
      "include_colab_link": true
    },
    "kernelspec": {
      "name": "python3",
      "display_name": "Python 3"
    },
    "language_info": {
      "name": "python"
    }
  },
  "cells": [
    {
      "cell_type": "markdown",
      "metadata": {
        "id": "view-in-github",
        "colab_type": "text"
      },
      "source": [
        "<a href=\"https://colab.research.google.com/github/daviddhale/jupyter_parse_vmstat/blob/main/parse_vmstat.ipynb\" target=\"_parent\"><img src=\"https://colab.research.google.com/assets/colab-badge.svg\" alt=\"Open In Colab\"/></a>"
      ]
    },
    {
      "cell_type": "markdown",
      "source": [
        "## Running the code\n",
        "Click on the Run icon to the left of the first code section.  Click on the \"Upload\" button that is created just under the section.  In the upload dialog, select the vmstat output you would like to analyze.\n",
        "\n",
        ">**Do not click on any other run button until you have successfully uploaded a file!**"
      ],
      "metadata": {
        "id": "W4k5DOLXBEE6"
      }
    },
    {
      "source": [
        "# @title\n",
        "\n",
        "import io\n",
        "import pandas as pd\n",
        "import ipywidgets as widgets\n",
        "from IPython.display import display, FileLink\n",
        "import plotly.express as px\n",
        "from google.colab import files\n",
        "\n",
        "uploader = widgets.FileUpload(\n",
        "    multiple=False  # Allow only one file upload\n",
        ")\n",
        "\n",
        "# Display the upload button\n",
        "display(uploader)\n",
        "\n",
        "# Function to handle the uploaded file\n",
        "def handle_upload(change):\n",
        "    global df  # Declare df as a global variable\n",
        "    uploaded_filename = next(iter(uploader.value))\n",
        "    content = uploader.value[uploaded_filename]['content']\n",
        "    df = pd.read_csv(io.BytesIO(content), sep='\\s+',\n",
        "                     names=['Runnable Processes', 'Blocked Processes', 'Swap',\n",
        "                            'Free Mem', 'Buffered', 'Cache', 'Swap_IN', 'Swap_OUT',\n",
        "                            'Blocks_IN', 'Blocks_OUT', 'Interupts', 'Context Switches',\n",
        "                            'User', 'Sys', 'Idle', 'Wait', 'Time_Stolen'])\n",
        "\n",
        "    # ... (Rest of your code to process the DataFrame 'df') ...\n",
        "\n",
        "    # Eliminate original header lines in file\n",
        "    df.drop(df[(df['Runnable Processes'] == 'procs')].index, inplace=True)\n",
        "    df.drop(df[(df['Swap'] == 'swpd')].index, inplace=True)\n",
        "\n",
        "    # Renumber the index to account for dropped rows\n",
        "    df.reset_index(drop=True, inplace=True)\n",
        "\n",
        "    print(\"File uploaded and processed successfully!\")\n",
        "\n",
        "\n",
        "# Observe changes in the uploader widget\n",
        "uploader.observe(handle_upload, names='value')"
      ],
      "cell_type": "code",
      "metadata": {
        "cellView": "form",
        "id": "iaMHVFcOhEB1"
      },
      "execution_count": null,
      "outputs": []
    },
    {
      "cell_type": "markdown",
      "source": [
        "## Run calculations\n",
        "Click on the Run icon below to augment with vmstats with extra calculated columns."
      ],
      "metadata": {
        "id": "DgiYf436CFY0"
      }
    },
    {
      "cell_type": "code",
      "source": [
        "# @title\n",
        "# Calculations:\n",
        "\n",
        "# Convert the whole dataframe to ints\n",
        "df = df.astype(int)\n",
        "\n",
        "# Total Processes\n",
        "result = df['Runnable Processes'] + df['Blocked Processes']\n",
        "df.insert(2,'Total Blocked',result)\n",
        "\n",
        "# Total Swap\n",
        "result = df['Swap_IN'] + df['Swap_OUT']\n",
        "df.insert(9,'Swaps per Sample',result)\n",
        "\n",
        "# Total IO\n",
        "result = df['Blocks_IN'] + df['Blocks_OUT']\n",
        "df.insert(12,'Total IO',result)\n",
        "\n",
        "# Swap Percent\n",
        "result = df['Swaps per Sample'] / df['Total IO']\n",
        "df.insert(13,'Swap Percent',result)\n",
        "\n",
        "# Total CPU in Use\n",
        "result = df['User'] + df['Sys']\n",
        "df.insert(20,'Total CPU in Use',result)\n",
        "\n",
        "# Thread Potential\n",
        "result = df['Total Blocked'] * (df['Wait'] / 100.0)\n",
        "df.insert(22,'Thread Potential',result)\n",
        "\n",
        "# CPU Steady State\n",
        "result = (df['Total CPU in Use'] / 100.0) + df['Thread Potential']\n",
        "df.insert(23,'CPU Steady State',result)"
      ],
      "metadata": {
        "cellView": "form",
        "id": "ueWW59jYiLrl"
      },
      "execution_count": null,
      "outputs": []
    },
    {
      "cell_type": "markdown",
      "source": [
        "## Create graphs\n",
        "Click on the Run icon below to create (but not display) the various graphs.\n",
        "\n",
        "After it has completed, you can proceed through the rest of the Run icons to display each graph or to export the results to an Excel file."
      ],
      "metadata": {
        "id": "mk46La4SCZLW"
      }
    },
    {
      "cell_type": "code",
      "source": [
        "# @title\n",
        "'''\n",
        "df.plot(title='Swap_IN/Swap_OUT', y=['Swap_IN','Swap_OUT'])\n",
        "#df.plot(title='CPU',y=['User','Sys','Wait'],ylim=(0,100))\n",
        "df.plot(title='CPU Wait',y=['Wait'],ylim=(0,100))\n",
        "plt.show()\n",
        "'''\n",
        "\n",
        "# Create Plotly figures\n",
        "fig_swap = px.line(df, x=df.index, y=['Swap_IN', 'Swap_OUT'],\n",
        "               title='Swap_IN/Swap_OUT')\n",
        "fig_blocked = px.line(df, x=df.index, y=['Runnable Processes', 'Blocked Processes'],\n",
        "               title='Run and Blocked Queues')\n",
        "fig_cpu = px.line(df, x=df.index, y=['User', 'Sys', 'Wait'], title='CPU')\n",
        "fig_cpu.update_yaxes(range=[0, 100])  # Set y-axis limits for fig3\n",
        "fig_potential = px.line(df, x=df.index, y=['Thread Potential'],\n",
        "                        title='Thread Potential')\n",
        "fig_blocks = px.line(df, x=df.index, y=['Blocks_IN', 'Blocks_OUT','Total IO'],\n",
        "                        title='Blocks IN/OUT/Total')\n",
        "\n",
        "# Display the figures\n",
        "#fig_swap.show()\n",
        "#fig_blocked.show()  # Commented out for now\n",
        "#fig_cpu.show()\n",
        "#fig_potential.show()"
      ],
      "metadata": {
        "cellView": "form",
        "id": "TF4VT3gviRs-"
      },
      "execution_count": null,
      "outputs": []
    },
    {
      "cell_type": "markdown",
      "source": [
        "## CPU Usage\n",
        "Look for any occurances of the CPU being maxed out or excessive wait percentages.\n",
        "\n",
        "> You can click on data elements in legend to toggle if it is hidden or displayed.\n",
        ">\n",
        "> You can double click an element to hide all other elements.\n",
        ">\n",
        "> You can also zoom in on a particular range by clicking and dragging\n"
      ],
      "metadata": {
        "id": "wDs3vhXL06aZ"
      }
    },
    {
      "cell_type": "code",
      "source": [
        "# @title\n",
        "fig_cpu.show()\n"
      ],
      "metadata": {
        "cellView": "form",
        "id": "LvD4Ntki1dna"
      },
      "execution_count": null,
      "outputs": []
    },
    {
      "cell_type": "markdown",
      "source": [
        "## Swap Statistics\n",
        "Look for high amounts of persistent swap or extended periods where swap is high"
      ],
      "metadata": {
        "id": "RnWPSxeezf3u"
      }
    },
    {
      "cell_type": "code",
      "source": [
        "# @title\n",
        "fig_swap.show()"
      ],
      "metadata": {
        "cellView": "form",
        "id": "UWB7rhlHzyt2"
      },
      "execution_count": null,
      "outputs": []
    },
    {
      "cell_type": "markdown",
      "source": [
        "## IO Statistics\n",
        "Look for spikes in IO IN/OUT/Total that match with spikes in wait time.  If they are for extended periods of time, there may be an issue."
      ],
      "metadata": {
        "id": "79rrlUvYr-9z"
      }
    },
    {
      "cell_type": "code",
      "source": [
        "# @title\n",
        "fig_blocks.show()"
      ],
      "metadata": {
        "cellView": "form",
        "id": "pr4T85ZfsQAl"
      },
      "execution_count": null,
      "outputs": []
    },
    {
      "cell_type": "markdown",
      "source": [
        "## Run and Blocked Queues\n",
        "This data represents the number of processes that are either waiting to start or have been blocked due to I/O or other wait states."
      ],
      "metadata": {
        "id": "AwFlgdAh0TZi"
      }
    },
    {
      "cell_type": "code",
      "source": [
        "# @title\n",
        "fig_blocked.show()"
      ],
      "metadata": {
        "cellView": "form",
        "id": "ELjWqLhG0nC-"
      },
      "execution_count": null,
      "outputs": []
    },
    {
      "cell_type": "markdown",
      "source": [
        "## Thread Potential\n",
        "Describe thread potential"
      ],
      "metadata": {
        "id": "z8b1HqfX0wqr"
      }
    },
    {
      "cell_type": "code",
      "source": [
        "# @title\n",
        "fig_potential.show()"
      ],
      "metadata": {
        "cellView": "form",
        "id": "X5eDemkL0usM"
      },
      "execution_count": null,
      "outputs": []
    },
    {
      "cell_type": "markdown",
      "source": [
        "## Export to Excel\n",
        "Running this section will automatically download the file to your system in your web browsers default download location.\n",
        "\n",
        ">You do not need to run this if you are just exploring the graphs above.\n"
      ],
      "metadata": {
        "id": "NjQVMsW93gHg"
      }
    },
    {
      "cell_type": "code",
      "source": [
        "# @title\n",
        "# Create Excel file with results\n",
        "df.to_excel(\"vmstat_augmented.xlsx\",index=False)\n",
        "\n",
        "# Download the file\n",
        "# display(FileLink('test.xlsx')) # Create download link for a local Jupyter server\n",
        "files.download('vmstat_augmented.xlsx') # Create download link for Google Colab"
      ],
      "metadata": {
        "cellView": "form",
        "id": "j7vpOToliSvr"
      },
      "execution_count": null,
      "outputs": []
    }
  ]
}